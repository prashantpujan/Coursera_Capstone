{
 "cells": [
  {
   "cell_type": "markdown",
   "metadata": {
    "collapsed": true
   },
   "source": [
    "# Introduction:"
   ]
  },
  {
   "cell_type": "markdown",
   "metadata": {},
   "source": [
    "Toronto is the provincial capital of Ontario, the most populous city in Canada, and the fourth largest populous city in North America, with a population of 2,731,571 as of 2016. Current to 2016, the Toronto census metropolitan area (CMA), of which the majority is within the Greater Toronto Area (GTA), held a population of 5,928,040, making it Canada's most populous CMA. The city is the anchor of the Golden Horseshoe, an urban agglomeration of 9,245,438 people (as of 2016) surrounding the western end of Lake Ontario. Toronto is an international centre of business, finance, arts, and culture, and is recognized as one of the most multicultural and cosmopolitan cities in the world.\n",
    "\n",
    "Toronto is the most multicultural city in Canada. It provides lot of business opportunities and business friendly environment. It is a global hub of business and commerce. The market is highly competitive here.So, any new business venture needs to be analysed carefully. However exciting it is to start a new business, there's a huge amount of risk involved in setting up one. The insights derived from analysis will give us good and brief understanding of the business environment. This will help in reduction of risk. In this project, we are going to find the most suitable location to open a new coffee business that shall yield profit."
   ]
  },
  {
   "cell_type": "markdown",
   "metadata": {},
   "source": [
    "# Business Problem:"
   ]
  },
  {
   "cell_type": "markdown",
   "metadata": {},
   "source": [
    "The aim of this project is to recommend suitable neighborhoods for new start-up entrepreneurs entering the business world in Toronto, Ontario, Canada. Specifically, this report will be targeted to users who want to set up a new business with close proximity to places of interest or search category option. The recommendation should not only present the most viable option, but also present a comparison table of all possible venues."
   ]
  },
  {
   "cell_type": "markdown",
   "metadata": {},
   "source": [
    "# Data:"
   ]
  },
  {
   "cell_type": "markdown",
   "metadata": {},
   "source": [
    "### This project will acquire information from the following data sources:\n",
    "\n",
    "#### Toronto Neighborhoods Location Data\n",
    "\n",
    "Coordinates of the candidate areas will be generated algorithmically and approximate addresses of centers of those areas will be obtained using Google Maps API geocoding.\n",
    "\n",
    "#### Toronto Top Venue Recommendations\n",
    "\n",
    "Will be using Foursquare API to explore neighborhoods in Toronto, Canada. The Foursquare API Explore function will be utilized to obtain the most common venue categories in each neighborhood, and then use this feature to group the neighborhoods into clusters. K-means clustering algorithm will be used to complete this task and Folium library to be used visualize the neighborhoods in Toronto and their emerging clusters."
   ]
  },
  {
   "cell_type": "code",
   "execution_count": null,
   "metadata": {},
   "outputs": [],
   "source": []
  }
 ],
 "metadata": {
  "kernelspec": {
   "display_name": "Python 3.6",
   "language": "python",
   "name": "python3"
  },
  "language_info": {
   "codemirror_mode": {
    "name": "ipython",
    "version": 3
   },
   "file_extension": ".py",
   "mimetype": "text/x-python",
   "name": "python",
   "nbconvert_exporter": "python",
   "pygments_lexer": "ipython3",
   "version": "3.6.8"
  }
 },
 "nbformat": 4,
 "nbformat_minor": 1
}
